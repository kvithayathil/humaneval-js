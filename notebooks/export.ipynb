{
 "cells": [
  {
   "cell_type": "code",
   "execution_count": 1,
   "id": "049f59c8",
   "metadata": {},
   "outputs": [
    {
     "data": {
      "application/vnd.jupyter.widget-view+json": {
       "model_id": "cf21452a18194b34999066c870190490",
       "version_major": 2,
       "version_minor": 0
      },
      "text/plain": [
       "README.md: 0.00B [00:00, ?B/s]"
      ]
     },
     "metadata": {},
     "output_type": "display_data"
    },
    {
     "data": {
      "application/vnd.jupyter.widget-view+json": {
       "model_id": "ded83dd07bee43929d4e0b1534b5c041",
       "version_major": 2,
       "version_minor": 0
      },
      "text/plain": [
       "openai_humaneval/test-00000-of-00001.par(…):   0%|          | 0.00/83.9k [00:00<?, ?B/s]"
      ]
     },
     "metadata": {},
     "output_type": "display_data"
    },
    {
     "data": {
      "application/vnd.jupyter.widget-view+json": {
       "model_id": "8c71f0539f4e4d6aa455e76ed8f0990c",
       "version_major": 2,
       "version_minor": 0
      },
      "text/plain": [
       "Generating test split:   0%|          | 0/164 [00:00<?, ? examples/s]"
      ]
     },
     "metadata": {},
     "output_type": "display_data"
    }
   ],
   "source": [
    "from datasets import load_dataset\n",
    "\n",
    "ds = load_dataset(\"openai/openai_humaneval\")"
   ]
  },
  {
   "cell_type": "code",
   "execution_count": 14,
   "id": "95d3b581",
   "metadata": {},
   "outputs": [],
   "source": [
    "for item in ds[\"test\"]:\n",
    " task_id = item[\"task_id\"].split(\"/\")[1]\n",
    " prompt = item[\"prompt\"]\n",
    " canonical_solution = item[\"canonical_solution\"]\n",
    " test = item[\"test\"]\n",
    " entry_point = item[\"entry_point\"]\n",
    "\n",
    " with open(f\"../HumanEval/{task_id}.py\", \"w\") as f:\n",
    "    f.write(f\"\"\"## BEGIN - PROMPT\n",
    "{prompt}\n",
    "## BEGIN - CANONICAL SOLUTION\n",
    "{canonical_solution}\n",
    "## BEGIN - TEST\n",
    "{test}\n",
    "## BEGIN - CHECK\n",
    "check({entry_point})\"\"\")\n"
   ]
  }
 ],
 "metadata": {
  "kernelspec": {
   "display_name": ".venv",
   "language": "python",
   "name": "python3"
  },
  "language_info": {
   "codemirror_mode": {
    "name": "ipython",
    "version": 3
   },
   "file_extension": ".py",
   "mimetype": "text/x-python",
   "name": "python",
   "nbconvert_exporter": "python",
   "pygments_lexer": "ipython3",
   "version": "3.12.3"
  }
 },
 "nbformat": 4,
 "nbformat_minor": 5
}
