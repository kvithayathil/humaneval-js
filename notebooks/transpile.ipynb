{
 "cells": [
  {
   "cell_type": "code",
   "execution_count": null,
   "id": "99e037bb",
   "metadata": {},
   "outputs": [
    {
     "data": {
      "text/plain": [
       "True"
      ]
     },
     "execution_count": 1,
     "metadata": {},
     "output_type": "execute_result"
    }
   ],
   "source": [
    "from dotenv import load_dotenv\n",
    "\n",
    "load_dotenv(\"../.env\")"
   ]
  },
  {
   "cell_type": "code",
   "execution_count": 10,
   "id": "3b62fa8d",
   "metadata": {},
   "outputs": [],
   "source": [
    "from tqdm import tqdm"
   ]
  },
  {
   "cell_type": "code",
   "execution_count": 5,
   "id": "b9195467",
   "metadata": {},
   "outputs": [],
   "source": [
    "from openai import OpenAI\n",
    "client = OpenAI()"
   ]
  },
  {
   "cell_type": "code",
   "execution_count": 19,
   "id": "c98e2fdb",
   "metadata": {},
   "outputs": [
    {
     "name": "stderr",
     "output_type": "stream",
     "text": [
      "100%|██████████| 164/164 [52:50<00:00, 19.33s/it]\n"
     ]
    }
   ],
   "source": [
    "eval_item_count = 164\n",
    "for i in tqdm(range(eval_item_count)):\n",
    "    input_file_path = f\"../HumanEval/{i}.py\"\n",
    "    with open(input_file_path, \"r\") as f:\n",
    "        content = f.read()\n",
    "\n",
    "    response = client.responses.create(\n",
    "        model=\"o4-mini\",\n",
    "        input=[\n",
    "            {\n",
    "                \"role\": \"system\",\n",
    "                \"content\": \"\"\"%ROLE: You are an expert in python and Javascript. \n",
    "                    %TASK: Your job is to translate the given python script to Javascript. \n",
    "                    The code will be executed in a NodeJS environment. \n",
    "                    Respond with only the code and nothing else.\n",
    "                        s\n",
    "                    %INSTRUCTIONS:\n",
    "                    1. Read the python code, take note of any documentation and comments\n",
    "                    2. Convert the python code to Javascript. \n",
    "                        a. Take note of marker comments in the python such as ## BEGIN - PROMPT. \n",
    "                            convert these into their Javascript equivalent //// BEGIN PROMPT\n",
    "                    3. Format doc comments as JSDoc in Javascript\n",
    "                    %NOTES:  \n",
    "                    1. Do not enclose the output in markdown or other formatting. The code will\n",
    "                    be run in node as is. Respond with only executable Javascript\"\"\",\n",
    "            },\n",
    "            {\"role\": \"user\", \"content\": content},\n",
    "        ],\n",
    "    )\n",
    "    result = response.output_text\n",
    "\n",
    "    output_file_path = f\"../HumanEvalJs/{i}.js\"\n",
    "    with open(output_file_path, \"w\") as f:\n",
    "        f.write(result)"
   ]
  },
  {
   "cell_type": "code",
   "execution_count": null,
   "id": "41a6a4ee",
   "metadata": {},
   "outputs": [],
   "source": []
  }
 ],
 "metadata": {
  "kernelspec": {
   "display_name": ".venv",
   "language": "python",
   "name": "python3"
  },
  "language_info": {
   "codemirror_mode": {
    "name": "ipython",
    "version": 3
   },
   "file_extension": ".py",
   "mimetype": "text/x-python",
   "name": "python",
   "nbconvert_exporter": "python",
   "pygments_lexer": "ipython3",
   "version": "3.12.3"
  }
 },
 "nbformat": 4,
 "nbformat_minor": 5
}
